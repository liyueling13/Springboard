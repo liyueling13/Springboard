{
 "cells": [
  {
   "cell_type": "markdown",
   "metadata": {},
   "source": [
    "# Capstone 2 on Airline Delays: Preprocessing\n",
    "10/14/22\n",
    "\n",
    "From our data wrangling and exploratory analysis, we've learned some interesting things about our data: what time of year flights are likely to get delayed/cancelled, which airlines are the worst offenders, etc. Recall that we're just looking at flights leaving RDU airport from Jul 2021-Jun 2022.\n",
    "\n",
    "Now let's get our data into shape so we can do some modeling with it."
   ]
  },
  {
   "cell_type": "code",
   "execution_count": 1,
   "metadata": {},
   "outputs": [],
   "source": [
    "#Import necessary packages and load dataset\n",
    "import numpy as np\n",
    "import pandas as pd\n",
    "import matplotlib.pyplot as plt\n",
    "import seaborn as sns\n",
    "\n",
    "df_RDU = pd.read_csv('RDU_departures.csv')"
   ]
  },
  {
   "cell_type": "code",
   "execution_count": 2,
   "metadata": {},
   "outputs": [],
   "source": [
    "df_RDU.drop(['Unnamed: 0'], axis=1, inplace=True)"
   ]
  },
  {
   "cell_type": "code",
   "execution_count": 3,
   "metadata": {},
   "outputs": [
    {
     "name": "stdout",
     "output_type": "stream",
     "text": [
      "<class 'pandas.core.frame.DataFrame'>\n",
      "RangeIndex: 52645 entries, 0 to 52644\n",
      "Data columns (total 33 columns):\n",
      " #   Column               Non-Null Count  Dtype  \n",
      "---  ------               --------------  -----  \n",
      " 0   QUARTER              52645 non-null  int64  \n",
      " 1   MONTH                52645 non-null  int64  \n",
      " 2   DAY_OF_MONTH         52645 non-null  int64  \n",
      " 3   DAY_OF_WEEK          52645 non-null  object \n",
      " 4   FL_DATE              52645 non-null  object \n",
      " 5   CARRIER              52645 non-null  object \n",
      " 6   FL_NUM               52645 non-null  int64  \n",
      " 7   ORIGIN               52645 non-null  object \n",
      " 8   ORIGIN_CITY          52645 non-null  object \n",
      " 9   ORIGIN_STATE         52645 non-null  object \n",
      " 10  DEST                 52645 non-null  object \n",
      " 11  DEST_CITY            52645 non-null  object \n",
      " 12  DEST_STATE           52645 non-null  object \n",
      " 13  CRS_DEP_TIME         52645 non-null  object \n",
      " 14  DEP_TIME             51170 non-null  object \n",
      " 15  DEP_DELAY            51175 non-null  float64\n",
      " 16  DEP_DEL15            51175 non-null  object \n",
      " 17  DEP_DELAY_GROUP      51175 non-null  float64\n",
      " 18  CRS_ARR_TIME         52626 non-null  object \n",
      " 19  ARR_TIME             51096 non-null  object \n",
      " 20  ARR_DELAY            51037 non-null  float64\n",
      " 21  ARR_DEL15            51037 non-null  object \n",
      " 22  ARR_DELAY_GROUP      51037 non-null  float64\n",
      " 23  CANCELLED            52645 non-null  object \n",
      " 24  CRS_ELAPSED_TIME     52645 non-null  float64\n",
      " 25  ACTUAL_ELAPSED_TIME  51037 non-null  float64\n",
      " 26  AIR_TIME             51037 non-null  float64\n",
      " 27  DISTANCE             52645 non-null  float64\n",
      " 28  CARRIER_DELAY        8988 non-null   float64\n",
      " 29  WEATHER_DELAY        8988 non-null   float64\n",
      " 30  NAS_DELAY            8988 non-null   float64\n",
      " 31  SECURITY_DELAY       8988 non-null   float64\n",
      " 32  LATE_AIRCRAFT_DELAY  8988 non-null   float64\n",
      "dtypes: float64(13), int64(4), object(16)\n",
      "memory usage: 13.3+ MB\n"
     ]
    }
   ],
   "source": [
    "df_RDU.info()"
   ]
  },
  {
   "cell_type": "markdown",
   "metadata": {},
   "source": [
    "## Creating a Result column\n",
    "Up to now, we've had two dependent variable results: flight delays >15 min and flight cancellations. We really need to commit to one result column! Let's create one categorical variable \"RESULT\" that captures both of these. \n",
    "\n",
    "What if we combine DEP_DELAY_GROUP with CANCELLED?"
   ]
  },
  {
   "cell_type": "markdown",
   "metadata": {},
   "source": [
    "DEP_DELAY_GROUP              \n",
    "\n",
    "                    -2=delay of <-15 min\n",
    "                  -1=delay between -15 and -1 min\n",
    "                     0=delay between 0 and 14 min\n",
    "                    1=delay between 15 and 29 min\n",
    "                    2=delay between 30 and 44 min\n",
    "                all the way to 12=delay >=180 min"
   ]
  },
  {
   "cell_type": "code",
   "execution_count": 4,
   "metadata": {},
   "outputs": [
    {
     "data": {
      "text/plain": [
       "0      1.0\n",
       "1      0.0\n",
       "2      4.0\n",
       "3     -1.0\n",
       "4      4.0\n",
       "5     -1.0\n",
       "6      1.0\n",
       "7     -1.0\n",
       "8     10.0\n",
       "9     -1.0\n",
       "10     0.0\n",
       "11    -1.0\n",
       "12     0.0\n",
       "13     0.0\n",
       "14    -1.0\n",
       "15     3.0\n",
       "16    -1.0\n",
       "17    -1.0\n",
       "18    -1.0\n",
       "19     0.0\n",
       "Name: DEP_DELAY_GROUP, dtype: float64"
      ]
     },
     "execution_count": 4,
     "metadata": {},
     "output_type": "execute_result"
    }
   ],
   "source": [
    "df_RDU['DEP_DELAY_GROUP'].head(20)"
   ]
  },
  {
   "cell_type": "code",
   "execution_count": 5,
   "metadata": {},
   "outputs": [],
   "source": [
    "df_RDU['RESULT'] = df_RDU['DEP_DELAY_GROUP']\n",
    "df_RDU.loc[df_RDU['CANCELLED']=='Cancelled', 'RESULT']=13"
   ]
  },
  {
   "cell_type": "markdown",
   "metadata": {},
   "source": [
    "Now we have a column 'RESULT' which tells us how delayed a flight was (-2 through 12) or if it was cancelled (13)."
   ]
  },
  {
   "cell_type": "markdown",
   "metadata": {},
   "source": [
    "## Getting rid of duplicate variables\n",
    "\n",
    "I was hesitant to get rid of variables before. But we need to delete certain duplicate ones so we don't have problems with collinearity/redundant data.\n",
    "\n",
    "Let's look at what data we have and what types."
   ]
  },
  {
   "cell_type": "code",
   "execution_count": 6,
   "metadata": {
    "scrolled": false
   },
   "outputs": [
    {
     "data": {
      "text/plain": [
       "QUARTER                  int64\n",
       "MONTH                    int64\n",
       "DAY_OF_MONTH             int64\n",
       "DAY_OF_WEEK             object\n",
       "FL_DATE                 object\n",
       "CARRIER                 object\n",
       "FL_NUM                   int64\n",
       "ORIGIN                  object\n",
       "ORIGIN_CITY             object\n",
       "ORIGIN_STATE            object\n",
       "DEST                    object\n",
       "DEST_CITY               object\n",
       "DEST_STATE              object\n",
       "CRS_DEP_TIME            object\n",
       "DEP_TIME                object\n",
       "DEP_DELAY              float64\n",
       "DEP_DEL15               object\n",
       "DEP_DELAY_GROUP        float64\n",
       "CRS_ARR_TIME            object\n",
       "ARR_TIME                object\n",
       "ARR_DELAY              float64\n",
       "ARR_DEL15               object\n",
       "ARR_DELAY_GROUP        float64\n",
       "CANCELLED               object\n",
       "CRS_ELAPSED_TIME       float64\n",
       "ACTUAL_ELAPSED_TIME    float64\n",
       "AIR_TIME               float64\n",
       "DISTANCE               float64\n",
       "CARRIER_DELAY          float64\n",
       "WEATHER_DELAY          float64\n",
       "NAS_DELAY              float64\n",
       "SECURITY_DELAY         float64\n",
       "LATE_AIRCRAFT_DELAY    float64\n",
       "RESULT                 float64\n",
       "dtype: object"
      ]
     },
     "execution_count": 6,
     "metadata": {},
     "output_type": "execute_result"
    }
   ],
   "source": [
    "df_RDU.dtypes"
   ]
  },
  {
   "cell_type": "markdown",
   "metadata": {},
   "source": [
    "First let's fix some dtypes."
   ]
  },
  {
   "cell_type": "code",
   "execution_count": 7,
   "metadata": {},
   "outputs": [],
   "source": [
    "df_RDU['QUARTER'] = df_RDU['QUARTER'].astype('category')\n",
    "df_RDU['MONTH'] = df_RDU['MONTH'].astype('category')\n",
    "df_RDU['DAY_OF_MONTH'] = df_RDU['DAY_OF_MONTH'].astype('category')\n",
    "df_RDU['DAY_OF_WEEK'] = df_RDU['DAY_OF_WEEK'].astype('category')\n",
    "df_RDU['FL_DATE'] = df_RDU['FL_DATE'].astype('datetime64') # not sure if this one works\n",
    "df_RDU['FL_NUM'] = df_RDU['FL_NUM'].astype('object')\n",
    "# df_RDU['CRS_DEP_TIME'] = pd.to_datetime(df_RDU['CRS_DEP_TIME'], format='%H:%M', errors='coerce').dt.time\n",
    "# df_RDU['DEP_TIME'] = pd.to_datetime(df_RDU['DEP_TIME'], format='%H%M', errors='coerce').dt.time\n",
    "df_RDU['RESULT'] = df_RDU['RESULT'].astype('category')"
   ]
  },
  {
   "cell_type": "markdown",
   "metadata": {},
   "source": [
    "We don't need 'ORIGIN', 'ORIGIN_CITY', and 'ORIGIN_STATE': we have subsetted our data so that we're only working with RDU.\n",
    "\n",
    "We only need 'DEST' (destination airport code), 'DEST_CITY', and 'DEST_STATE' are redundant.\n",
    "\n",
    "We have 'RESULT' so we don't need 'DEP_DELAY', 'DEP_DEL15', 'DEP_DELAY_GROUP', 'ARR_DELAY', 'ARR_DEL15', 'ARR_DELAY_GROUP', and 'CANCELLED' anymore."
   ]
  },
  {
   "cell_type": "code",
   "execution_count": 8,
   "metadata": {},
   "outputs": [
    {
     "name": "stdout",
     "output_type": "stream",
     "text": [
      "<class 'pandas.core.frame.DataFrame'>\n",
      "RangeIndex: 52645 entries, 0 to 52644\n",
      "Data columns (total 22 columns):\n",
      " #   Column               Non-Null Count  Dtype         \n",
      "---  ------               --------------  -----         \n",
      " 0   QUARTER              52645 non-null  category      \n",
      " 1   MONTH                52645 non-null  category      \n",
      " 2   DAY_OF_MONTH         52645 non-null  category      \n",
      " 3   DAY_OF_WEEK          52645 non-null  category      \n",
      " 4   FL_DATE              52645 non-null  datetime64[ns]\n",
      " 5   CARRIER              52645 non-null  object        \n",
      " 6   FL_NUM               52645 non-null  object        \n",
      " 7   DEST                 52645 non-null  object        \n",
      " 8   CRS_DEP_TIME         52645 non-null  object        \n",
      " 9   DEP_TIME             51170 non-null  object        \n",
      " 10  CRS_ARR_TIME         52626 non-null  object        \n",
      " 11  ARR_TIME             51096 non-null  object        \n",
      " 12  CRS_ELAPSED_TIME     52645 non-null  float64       \n",
      " 13  ACTUAL_ELAPSED_TIME  51037 non-null  float64       \n",
      " 14  AIR_TIME             51037 non-null  float64       \n",
      " 15  DISTANCE             52645 non-null  float64       \n",
      " 16  CARRIER_DELAY        8988 non-null   float64       \n",
      " 17  WEATHER_DELAY        8988 non-null   float64       \n",
      " 18  NAS_DELAY            8988 non-null   float64       \n",
      " 19  SECURITY_DELAY       8988 non-null   float64       \n",
      " 20  LATE_AIRCRAFT_DELAY  8988 non-null   float64       \n",
      " 21  RESULT               52645 non-null  category      \n",
      "dtypes: category(5), datetime64[ns](1), float64(9), object(7)\n",
      "memory usage: 7.1+ MB\n"
     ]
    }
   ],
   "source": [
    "df_RDU2 = df_RDU.drop(columns=['ORIGIN', 'ORIGIN_CITY', 'ORIGIN_STATE', 'DEST_CITY', 'DEST_STATE',\n",
    "                              'DEP_DELAY', 'DEP_DEL15', 'DEP_DELAY_GROUP', \n",
    "                               'ARR_DELAY', 'ARR_DEL15', 'ARR_DELAY_GROUP', 'CANCELLED'])\n",
    "df_RDU2.info()"
   ]
  },
  {
   "cell_type": "markdown",
   "metadata": {},
   "source": [
    "Finally for the different kinds of delay,\n",
    "\n",
    "    'CARRIER_DELAY', 'WEATHER_DELAY', 'NAS_DELAY', 'SECURITY_DELAY', and 'LATE_AIRCRAFT_DELAY',\n",
    "\n",
    "we don't need this down to the minute. \n",
    "\n",
    "Let's binarize these values: 0 for delay and 1 for no delay caused by this factor.\n",
    "\n",
    "(First we have to fill in NaN values; we will assume NaN means 0, there was no delay caused by this factor.)"
   ]
  },
  {
   "cell_type": "code",
   "execution_count": 9,
   "metadata": {},
   "outputs": [],
   "source": [
    "df_RDU2['CARRIER_DELAY'] = df_RDU2['CARRIER_DELAY'].fillna(value=0)\n",
    "df_RDU2['WEATHER_DELAY'] = df_RDU2['WEATHER_DELAY'].fillna(value=0)\n",
    "df_RDU2['NAS_DELAY'] = df_RDU2['NAS_DELAY'].fillna(value=0)\n",
    "df_RDU2['SECURITY_DELAY'] = df_RDU2['SECURITY_DELAY'].fillna(value=0)\n",
    "df_RDU2['LATE_AIRCRAFT_DELAY'] = df_RDU2['LATE_AIRCRAFT_DELAY'].fillna(value=0)"
   ]
  },
  {
   "cell_type": "code",
   "execution_count": 10,
   "metadata": {},
   "outputs": [],
   "source": [
    "df_RDU2.loc[df_RDU2['CARRIER_DELAY']>0, 'CARRIER_DELAY'] = 1\n",
    "df_RDU2.loc[df_RDU2['WEATHER_DELAY']>0, 'WEATHER_DELAY'] = 1\n",
    "df_RDU2.loc[df_RDU2['NAS_DELAY']>0, 'NAS_DELAY'] = 1\n",
    "df_RDU2.loc[df_RDU2['SECURITY_DELAY']>0, 'SECURITY_DELAY'] = 1\n",
    "df_RDU2.loc[df_RDU2['LATE_AIRCRAFT_DELAY']>0, 'LATE_AIRCRAFT_DELAY'] = 1"
   ]
  },
  {
   "cell_type": "code",
   "execution_count": 11,
   "metadata": {},
   "outputs": [],
   "source": [
    "df_RDU2['CARRIER_DELAY'] = df_RDU2['CARRIER_DELAY'].astype('category')\n",
    "df_RDU2['WEATHER_DELAY'] = df_RDU2['WEATHER_DELAY'].astype('category')\n",
    "df_RDU2['NAS_DELAY'] = df_RDU2['NAS_DELAY'].astype('category')\n",
    "df_RDU2['SECURITY_DELAY'] = df_RDU2['SECURITY_DELAY'].astype('category')\n",
    "df_RDU2['LATE_AIRCRAFT_DELAY'] = df_RDU2['LATE_AIRCRAFT_DELAY'].astype('category')"
   ]
  },
  {
   "cell_type": "markdown",
   "metadata": {},
   "source": [
    "## Divide into X and y"
   ]
  },
  {
   "cell_type": "code",
   "execution_count": 12,
   "metadata": {},
   "outputs": [],
   "source": [
    "X = df_RDU2.drop(columns='RESULT')\n",
    "y = df_RDU2['RESULT']"
   ]
  },
  {
   "cell_type": "markdown",
   "metadata": {},
   "source": [
    "## Dummy variables\n",
    "\n",
    "Next we'll create dummy variables for our categorical variables."
   ]
  },
  {
   "cell_type": "code",
   "execution_count": 13,
   "metadata": {},
   "outputs": [
    {
     "name": "stdout",
     "output_type": "stream",
     "text": [
      "<class 'pandas.core.frame.DataFrame'>\n",
      "RangeIndex: 52645 entries, 0 to 52644\n",
      "Data columns (total 21 columns):\n",
      " #   Column               Non-Null Count  Dtype         \n",
      "---  ------               --------------  -----         \n",
      " 0   QUARTER              52645 non-null  category      \n",
      " 1   MONTH                52645 non-null  category      \n",
      " 2   DAY_OF_MONTH         52645 non-null  category      \n",
      " 3   DAY_OF_WEEK          52645 non-null  category      \n",
      " 4   FL_DATE              52645 non-null  datetime64[ns]\n",
      " 5   CARRIER              52645 non-null  object        \n",
      " 6   FL_NUM               52645 non-null  object        \n",
      " 7   DEST                 52645 non-null  object        \n",
      " 8   CRS_DEP_TIME         52645 non-null  object        \n",
      " 9   DEP_TIME             51170 non-null  object        \n",
      " 10  CRS_ARR_TIME         52626 non-null  object        \n",
      " 11  ARR_TIME             51096 non-null  object        \n",
      " 12  CRS_ELAPSED_TIME     52645 non-null  float64       \n",
      " 13  ACTUAL_ELAPSED_TIME  51037 non-null  float64       \n",
      " 14  AIR_TIME             51037 non-null  float64       \n",
      " 15  DISTANCE             52645 non-null  float64       \n",
      " 16  CARRIER_DELAY        52645 non-null  category      \n",
      " 17  WEATHER_DELAY        52645 non-null  category      \n",
      " 18  NAS_DELAY            52645 non-null  category      \n",
      " 19  SECURITY_DELAY       52645 non-null  category      \n",
      " 20  LATE_AIRCRAFT_DELAY  52645 non-null  category      \n",
      "dtypes: category(9), datetime64[ns](1), float64(4), object(7)\n",
      "memory usage: 5.3+ MB\n"
     ]
    }
   ],
   "source": [
    "X.info()"
   ]
  },
  {
   "cell_type": "markdown",
   "metadata": {},
   "source": [
    "Now we can actually create dummy variables."
   ]
  },
  {
   "cell_type": "code",
   "execution_count": 14,
   "metadata": {},
   "outputs": [
    {
     "data": {
      "text/html": [
       "<div>\n",
       "<style scoped>\n",
       "    .dataframe tbody tr th:only-of-type {\n",
       "        vertical-align: middle;\n",
       "    }\n",
       "\n",
       "    .dataframe tbody tr th {\n",
       "        vertical-align: top;\n",
       "    }\n",
       "\n",
       "    .dataframe thead th {\n",
       "        text-align: right;\n",
       "    }\n",
       "</style>\n",
       "<table border=\"1\" class=\"dataframe\">\n",
       "  <thead>\n",
       "    <tr style=\"text-align: right;\">\n",
       "      <th></th>\n",
       "      <th>FL_DATE</th>\n",
       "      <th>FL_NUM</th>\n",
       "      <th>CRS_DEP_TIME</th>\n",
       "      <th>DEP_TIME</th>\n",
       "      <th>CRS_ARR_TIME</th>\n",
       "      <th>ARR_TIME</th>\n",
       "      <th>CRS_ELAPSED_TIME</th>\n",
       "      <th>ACTUAL_ELAPSED_TIME</th>\n",
       "      <th>AIR_TIME</th>\n",
       "      <th>DISTANCE</th>\n",
       "      <th>...</th>\n",
       "      <th>DEST_SWF</th>\n",
       "      <th>DEST_SYR</th>\n",
       "      <th>DEST_TPA</th>\n",
       "      <th>DEST_TTN</th>\n",
       "      <th>DEST_VPS</th>\n",
       "      <th>CARRIER_DELAY_1.0</th>\n",
       "      <th>WEATHER_DELAY_1.0</th>\n",
       "      <th>NAS_DELAY_1.0</th>\n",
       "      <th>SECURITY_DELAY_1.0</th>\n",
       "      <th>LATE_AIRCRAFT_DELAY_1.0</th>\n",
       "    </tr>\n",
       "  </thead>\n",
       "  <tbody>\n",
       "    <tr>\n",
       "      <th>0</th>\n",
       "      <td>2021-07-02</td>\n",
       "      <td>3242</td>\n",
       "      <td>17:15:00</td>\n",
       "      <td>17:33:00</td>\n",
       "      <td>18:45:00</td>\n",
       "      <td>19:18:00</td>\n",
       "      <td>150.0</td>\n",
       "      <td>165.0</td>\n",
       "      <td>107.0</td>\n",
       "      <td>646.0</td>\n",
       "      <td>...</td>\n",
       "      <td>0</td>\n",
       "      <td>0</td>\n",
       "      <td>0</td>\n",
       "      <td>0</td>\n",
       "      <td>0</td>\n",
       "      <td>0</td>\n",
       "      <td>0</td>\n",
       "      <td>0</td>\n",
       "      <td>0</td>\n",
       "      <td>1</td>\n",
       "    </tr>\n",
       "    <tr>\n",
       "      <th>1</th>\n",
       "      <td>2021-07-06</td>\n",
       "      <td>3242</td>\n",
       "      <td>17:15:00</td>\n",
       "      <td>17:15:00</td>\n",
       "      <td>18:45:00</td>\n",
       "      <td>18:59:00</td>\n",
       "      <td>150.0</td>\n",
       "      <td>164.0</td>\n",
       "      <td>97.0</td>\n",
       "      <td>646.0</td>\n",
       "      <td>...</td>\n",
       "      <td>0</td>\n",
       "      <td>0</td>\n",
       "      <td>0</td>\n",
       "      <td>0</td>\n",
       "      <td>0</td>\n",
       "      <td>0</td>\n",
       "      <td>0</td>\n",
       "      <td>0</td>\n",
       "      <td>0</td>\n",
       "      <td>0</td>\n",
       "    </tr>\n",
       "    <tr>\n",
       "      <th>2</th>\n",
       "      <td>2021-07-13</td>\n",
       "      <td>3242</td>\n",
       "      <td>17:15:00</td>\n",
       "      <td>18:28:00</td>\n",
       "      <td>18:45:00</td>\n",
       "      <td>19:55:00</td>\n",
       "      <td>150.0</td>\n",
       "      <td>147.0</td>\n",
       "      <td>99.0</td>\n",
       "      <td>646.0</td>\n",
       "      <td>...</td>\n",
       "      <td>0</td>\n",
       "      <td>0</td>\n",
       "      <td>0</td>\n",
       "      <td>0</td>\n",
       "      <td>0</td>\n",
       "      <td>0</td>\n",
       "      <td>0</td>\n",
       "      <td>0</td>\n",
       "      <td>0</td>\n",
       "      <td>1</td>\n",
       "    </tr>\n",
       "    <tr>\n",
       "      <th>3</th>\n",
       "      <td>2021-07-05</td>\n",
       "      <td>3242</td>\n",
       "      <td>17:15:00</td>\n",
       "      <td>17:11:00</td>\n",
       "      <td>18:45:00</td>\n",
       "      <td>18:17:00</td>\n",
       "      <td>150.0</td>\n",
       "      <td>126.0</td>\n",
       "      <td>99.0</td>\n",
       "      <td>646.0</td>\n",
       "      <td>...</td>\n",
       "      <td>0</td>\n",
       "      <td>0</td>\n",
       "      <td>0</td>\n",
       "      <td>0</td>\n",
       "      <td>0</td>\n",
       "      <td>0</td>\n",
       "      <td>0</td>\n",
       "      <td>0</td>\n",
       "      <td>0</td>\n",
       "      <td>0</td>\n",
       "    </tr>\n",
       "    <tr>\n",
       "      <th>4</th>\n",
       "      <td>2021-07-08</td>\n",
       "      <td>3242</td>\n",
       "      <td>17:15:00</td>\n",
       "      <td>18:28:00</td>\n",
       "      <td>18:45:00</td>\n",
       "      <td>20:09:00</td>\n",
       "      <td>150.0</td>\n",
       "      <td>161.0</td>\n",
       "      <td>127.0</td>\n",
       "      <td>646.0</td>\n",
       "      <td>...</td>\n",
       "      <td>0</td>\n",
       "      <td>0</td>\n",
       "      <td>0</td>\n",
       "      <td>0</td>\n",
       "      <td>0</td>\n",
       "      <td>0</td>\n",
       "      <td>0</td>\n",
       "      <td>0</td>\n",
       "      <td>0</td>\n",
       "      <td>1</td>\n",
       "    </tr>\n",
       "  </tbody>\n",
       "</table>\n",
       "<p>5 rows × 130 columns</p>\n",
       "</div>"
      ],
      "text/plain": [
       "     FL_DATE FL_NUM CRS_DEP_TIME  DEP_TIME CRS_ARR_TIME  ARR_TIME  \\\n",
       "0 2021-07-02   3242     17:15:00  17:33:00     18:45:00  19:18:00   \n",
       "1 2021-07-06   3242     17:15:00  17:15:00     18:45:00  18:59:00   \n",
       "2 2021-07-13   3242     17:15:00  18:28:00     18:45:00  19:55:00   \n",
       "3 2021-07-05   3242     17:15:00  17:11:00     18:45:00  18:17:00   \n",
       "4 2021-07-08   3242     17:15:00  18:28:00     18:45:00  20:09:00   \n",
       "\n",
       "   CRS_ELAPSED_TIME  ACTUAL_ELAPSED_TIME  AIR_TIME  DISTANCE  ...  DEST_SWF  \\\n",
       "0             150.0                165.0     107.0     646.0  ...         0   \n",
       "1             150.0                164.0      97.0     646.0  ...         0   \n",
       "2             150.0                147.0      99.0     646.0  ...         0   \n",
       "3             150.0                126.0      99.0     646.0  ...         0   \n",
       "4             150.0                161.0     127.0     646.0  ...         0   \n",
       "\n",
       "   DEST_SYR  DEST_TPA  DEST_TTN  DEST_VPS  CARRIER_DELAY_1.0  \\\n",
       "0         0         0         0         0                  0   \n",
       "1         0         0         0         0                  0   \n",
       "2         0         0         0         0                  0   \n",
       "3         0         0         0         0                  0   \n",
       "4         0         0         0         0                  0   \n",
       "\n",
       "   WEATHER_DELAY_1.0  NAS_DELAY_1.0  SECURITY_DELAY_1.0  \\\n",
       "0                  0              0                   0   \n",
       "1                  0              0                   0   \n",
       "2                  0              0                   0   \n",
       "3                  0              0                   0   \n",
       "4                  0              0                   0   \n",
       "\n",
       "   LATE_AIRCRAFT_DELAY_1.0  \n",
       "0                        1  \n",
       "1                        0  \n",
       "2                        1  \n",
       "3                        0  \n",
       "4                        1  \n",
       "\n",
       "[5 rows x 130 columns]"
      ]
     },
     "execution_count": 14,
     "metadata": {},
     "output_type": "execute_result"
    }
   ],
   "source": [
    "X = pd.get_dummies(X, columns=['QUARTER', 'MONTH', 'DAY_OF_MONTH', 'DAY_OF_WEEK', 'CARRIER', 'DEST',\n",
    "                                          'CARRIER_DELAY', 'WEATHER_DELAY', 'NAS_DELAY', 'SECURITY_DELAY', 'LATE_AIRCRAFT_DELAY'], drop_first=True)\n",
    "X.head()"
   ]
  },
  {
   "cell_type": "code",
   "execution_count": 15,
   "metadata": {
    "scrolled": true
   },
   "outputs": [
    {
     "data": {
      "text/plain": [
       "Index(['FL_DATE', 'FL_NUM', 'CRS_DEP_TIME', 'DEP_TIME', 'CRS_ARR_TIME',\n",
       "       'ARR_TIME', 'CRS_ELAPSED_TIME', 'ACTUAL_ELAPSED_TIME', 'AIR_TIME',\n",
       "       'DISTANCE',\n",
       "       ...\n",
       "       'DEST_SWF', 'DEST_SYR', 'DEST_TPA', 'DEST_TTN', 'DEST_VPS',\n",
       "       'CARRIER_DELAY_1.0', 'WEATHER_DELAY_1.0', 'NAS_DELAY_1.0',\n",
       "       'SECURITY_DELAY_1.0', 'LATE_AIRCRAFT_DELAY_1.0'],\n",
       "      dtype='object', length=130)"
      ]
     },
     "execution_count": 15,
     "metadata": {},
     "output_type": "execute_result"
    }
   ],
   "source": [
    "X.columns"
   ]
  },
  {
   "cell_type": "markdown",
   "metadata": {},
   "source": [
    "## Train/test sets\n",
    "\n",
    "Now it's time to divide our data into train and test sets."
   ]
  },
  {
   "cell_type": "code",
   "execution_count": 16,
   "metadata": {},
   "outputs": [],
   "source": [
    "from sklearn.model_selection import train_test_split\n",
    "X_train, X_test, y_train, y_test = train_test_split(X, y, test_size=0.25, random_state=42)"
   ]
  },
  {
   "cell_type": "markdown",
   "metadata": {},
   "source": [
    "# Scale/standardize numeric features\n",
    "\n",
    "We have four numeric features (not counting datetime features) that need to be scaled/standardized:\n",
    "\n",
    "    'CRS_ELAPSED_TIME', 'ACTUAL_ELAPSED_TIME', 'AIR_TIME', 'DISTANCE'\n",
    "\n",
    "To figure out which scaler we should use, let's make a couple quick visualizations."
   ]
  },
  {
   "cell_type": "code",
   "execution_count": 17,
   "metadata": {},
   "outputs": [
    {
     "data": {
      "image/png": "[encoded data removed]",
      "text/plain": [
       "<Figure size 432x288 with 4 Axes>"
      ]
     },
     "metadata": {
      "needs_background": "light"
     },
     "output_type": "display_data"
    }
   ],
   "source": [
    "fig, ax = plt. subplots(2, 2)\n",
    "ax[0, 0].hist(X_train['CRS_ELAPSED_TIME'])\n",
    "ax[0, 1].hist(X_train['ACTUAL_ELAPSED_TIME'])\n",
    "ax[1, 0].hist(X_train['AIR_TIME'])\n",
    "ax[1, 1].hist(X_train['DISTANCE'])\n",
    "plt.show()"
   ]
  },
  {
   "cell_type": "markdown",
   "metadata": {},
   "source": [
    "Since all these have long tails, it makes sense to use a log transformer rather than a standard scaler. We will fit and transform on X_train, and we will transform on X_test."
   ]
  },
  {
   "cell_type": "code",
   "execution_count": 18,
   "metadata": {},
   "outputs": [
    {
     "name": "stderr",
     "output_type": "stream",
     "text": [
      "<ipython-input-18-f2fef0fb392c>:3: SettingWithCopyWarning: \n",
      "A value is trying to be set on a copy of a slice from a DataFrame.\n",
      "Try using .loc[row_indexer,col_indexer] = value instead\n",
      "\n",
      "See the caveats in the documentation: https://pandas.pydata.org/pandas-docs/stable/user_guide/indexing.html#returning-a-view-versus-a-copy\n",
      "  X_train['CRS_ELAPSED_TIME_LG'] = pow_trans0.fit_transform(X_train[['CRS_ELAPSED_TIME']])\n",
      "<ipython-input-18-f2fef0fb392c>:4: SettingWithCopyWarning: \n",
      "A value is trying to be set on a copy of a slice from a DataFrame.\n",
      "Try using .loc[row_indexer,col_indexer] = value instead\n",
      "\n",
      "See the caveats in the documentation: https://pandas.pydata.org/pandas-docs/stable/user_guide/indexing.html#returning-a-view-versus-a-copy\n",
      "  X_test['CRS_ELAPSED_TIME_LG'] = pow_trans0.transform(X_test[['CRS_ELAPSED_TIME']])\n",
      "<ipython-input-18-f2fef0fb392c>:7: SettingWithCopyWarning: \n",
      "A value is trying to be set on a copy of a slice from a DataFrame.\n",
      "Try using .loc[row_indexer,col_indexer] = value instead\n",
      "\n",
      "See the caveats in the documentation: https://pandas.pydata.org/pandas-docs/stable/user_guide/indexing.html#returning-a-view-versus-a-copy\n",
      "  X_train['ACTUAL_ELAPSED_TIME_LG'] = pow_trans1.fit_transform(X_train[['ACTUAL_ELAPSED_TIME']])\n",
      "<ipython-input-18-f2fef0fb392c>:8: SettingWithCopyWarning: \n",
      "A value is trying to be set on a copy of a slice from a DataFrame.\n",
      "Try using .loc[row_indexer,col_indexer] = value instead\n",
      "\n",
      "See the caveats in the documentation: https://pandas.pydata.org/pandas-docs/stable/user_guide/indexing.html#returning-a-view-versus-a-copy\n",
      "  X_test['ACTUAL_ELAPSED_TIME_LG'] = pow_trans1.transform(X_test[['ACTUAL_ELAPSED_TIME']])\n",
      "<ipython-input-18-f2fef0fb392c>:11: SettingWithCopyWarning: \n",
      "A value is trying to be set on a copy of a slice from a DataFrame.\n",
      "Try using .loc[row_indexer,col_indexer] = value instead\n",
      "\n",
      "See the caveats in the documentation: https://pandas.pydata.org/pandas-docs/stable/user_guide/indexing.html#returning-a-view-versus-a-copy\n",
      "  X_train['AIR_TIME_LG'] = pow_trans2.fit_transform(X_train[['AIR_TIME']])\n",
      "<ipython-input-18-f2fef0fb392c>:12: SettingWithCopyWarning: \n",
      "A value is trying to be set on a copy of a slice from a DataFrame.\n",
      "Try using .loc[row_indexer,col_indexer] = value instead\n",
      "\n",
      "See the caveats in the documentation: https://pandas.pydata.org/pandas-docs/stable/user_guide/indexing.html#returning-a-view-versus-a-copy\n",
      "  X_test['AIR_TIME_LG'] = pow_trans2.transform(X_test[['AIR_TIME']])\n",
      "<ipython-input-18-f2fef0fb392c>:15: SettingWithCopyWarning: \n",
      "A value is trying to be set on a copy of a slice from a DataFrame.\n",
      "Try using .loc[row_indexer,col_indexer] = value instead\n",
      "\n",
      "See the caveats in the documentation: https://pandas.pydata.org/pandas-docs/stable/user_guide/indexing.html#returning-a-view-versus-a-copy\n",
      "  X_train['DISTANCE_LG'] = pow_trans3.fit_transform(X_train[['DISTANCE']])\n",
      "<ipython-input-18-f2fef0fb392c>:16: SettingWithCopyWarning: \n",
      "A value is trying to be set on a copy of a slice from a DataFrame.\n",
      "Try using .loc[row_indexer,col_indexer] = value instead\n",
      "\n",
      "See the caveats in the documentation: https://pandas.pydata.org/pandas-docs/stable/user_guide/indexing.html#returning-a-view-versus-a-copy\n",
      "  X_test['DISTANCE_LG'] = pow_trans3.transform(X_test[['DISTANCE']])\n"
     ]
    }
   ],
   "source": [
    "from sklearn.preprocessing import PowerTransformer\n",
    "pow_trans0 = PowerTransformer()\n",
    "X_train['CRS_ELAPSED_TIME_LG'] = pow_trans0.fit_transform(X_train[['CRS_ELAPSED_TIME']])\n",
    "X_test['CRS_ELAPSED_TIME_LG'] = pow_trans0.transform(X_test[['CRS_ELAPSED_TIME']])\n",
    "\n",
    "pow_trans1 = PowerTransformer()\n",
    "X_train['ACTUAL_ELAPSED_TIME_LG'] = pow_trans1.fit_transform(X_train[['ACTUAL_ELAPSED_TIME']])\n",
    "X_test['ACTUAL_ELAPSED_TIME_LG'] = pow_trans1.transform(X_test[['ACTUAL_ELAPSED_TIME']])\n",
    "\n",
    "pow_trans2 = PowerTransformer()\n",
    "X_train['AIR_TIME_LG'] = pow_trans2.fit_transform(X_train[['AIR_TIME']])\n",
    "X_test['AIR_TIME_LG'] = pow_trans2.transform(X_test[['AIR_TIME']])\n",
    "\n",
    "pow_trans3 = PowerTransformer()\n",
    "X_train['DISTANCE_LG'] = pow_trans3.fit_transform(X_train[['DISTANCE']])\n",
    "X_test['DISTANCE_LG'] = pow_trans3.transform(X_test[['DISTANCE']])"
   ]
  },
  {
   "cell_type": "markdown",
   "metadata": {},
   "source": [
    "Despite all the error messages this seems to have worked okay."
   ]
  },
  {
   "cell_type": "code",
   "execution_count": 19,
   "metadata": {},
   "outputs": [
    {
     "data": {
      "image/png": "[encoded data removed]",
      "text/plain": [
       "<Figure size 432x288 with 4 Axes>"
      ]
     },
     "metadata": {
      "needs_background": "light"
     },
     "output_type": "display_data"
    }
   ],
   "source": [
    "fig, ax = plt. subplots(2, 2)\n",
    "ax[0, 0].hist(X_train['CRS_ELAPSED_TIME_LG'])\n",
    "ax[0, 1].hist(X_train['ACTUAL_ELAPSED_TIME_LG'])\n",
    "ax[1, 0].hist(X_train['AIR_TIME_LG'])\n",
    "ax[1, 1].hist(X_train['DISTANCE_LG'])\n",
    "plt.show()"
   ]
  },
  {
   "cell_type": "code",
   "execution_count": 20,
   "metadata": {},
   "outputs": [
    {
     "data": {
      "image/png": "[encoded data removed]",
      "text/plain": [
       "<Figure size 432x288 with 4 Axes>"
      ]
     },
     "metadata": {
      "needs_background": "light"
     },
     "output_type": "display_data"
    }
   ],
   "source": [
    "fig, ax = plt. subplots(2, 2)\n",
    "ax[0, 0].hist(X_test['CRS_ELAPSED_TIME_LG'])\n",
    "ax[0, 1].hist(X_test['ACTUAL_ELAPSED_TIME_LG'])\n",
    "ax[1, 0].hist(X_test['AIR_TIME_LG'])\n",
    "ax[1, 1].hist(X_test['DISTANCE_LG'])\n",
    "plt.show()"
   ]
  },
  {
   "cell_type": "code",
   "execution_count": 23,
   "metadata": {},
   "outputs": [],
   "source": [
    "# X_train.to_csv('X_train.csv')\n",
    "# X_test.to_csv('X_test.csv')\n",
    "# y.to_csv('y_result.csv')"
   ]
  },
  {
   "cell_type": "code",
   "execution_count": null,
   "metadata": {},
   "outputs": [],
   "source": []
  }
 ],
 "metadata": {
  "kernelspec": {
   "display_name": "Python 3",
   "language": "python",
   "name": "python3"
  },
  "language_info": {
   "codemirror_mode": {
    "name": "ipython",
    "version": 3
   },
   "file_extension": ".py",
   "mimetype": "text/x-python",
   "name": "python",
   "nbconvert_exporter": "python",
   "pygments_lexer": "ipython3",
   "version": "3.8.5"
  }
 },
 "nbformat": 4,
 "nbformat_minor": 4
}
