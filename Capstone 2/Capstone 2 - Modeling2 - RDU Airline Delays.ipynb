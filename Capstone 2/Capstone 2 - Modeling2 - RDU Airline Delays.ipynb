{
 "cells": [
  {
   "cell_type": "markdown",
   "metadata": {},
   "source": [
    "# Capstone 2 on RDU Airline Delays - Modeling2\n",
    "10/19/22\n",
    "\n",
    "We have wrangled, explored, and preprocessed our data. Now let's create some models to predict whether or not a flight will be delayed/cancelled. (This is attempt 2 because I realized an issue with my dataset.)"
   ]
  },
  {
   "cell_type": "code",
   "execution_count": 1,
   "metadata": {},
   "outputs": [],
   "source": [
    "#Import necessary packages\n",
    "\n",
    "import numpy as np\n",
    "import pandas as pd\n",
    "import matplotlib.pyplot as plt\n",
    "import seaborn as sns"
   ]
  },
  {
   "cell_type": "code",
   "execution_count": 2,
   "metadata": {},
   "outputs": [],
   "source": [
    "# load dataset\n",
    "\n",
    "X_train = pd.read_csv('X_train2.csv')\n",
    "X_test = pd.read_csv('X_test2.csv')\n",
    "y_train = pd.read_csv('y_train2.csv')\n",
    "y_test = pd.read_csv('y_test2.csv')"
   ]
  },
  {
   "cell_type": "code",
   "execution_count": 3,
   "metadata": {},
   "outputs": [],
   "source": [
    "X_train.drop(['Unnamed: 0'], axis=1, inplace=True)\n",
    "X_test.drop(['Unnamed: 0'], axis=1, inplace=True)\n",
    "y_train.drop(['Unnamed: 0'], axis=1, inplace=True)\n",
    "y_test.drop(['Unnamed: 0'], axis=1, inplace=True)"
   ]
  },
  {
   "cell_type": "code",
   "execution_count": 4,
   "metadata": {},
   "outputs": [
    {
     "data": {
      "text/plain": [
       "Index(['FL_NUM', 'QUARTER_2', 'QUARTER_3', 'QUARTER_4', 'MONTH_2', 'MONTH_3',\n",
       "       'MONTH_4', 'MONTH_5', 'MONTH_6', 'MONTH_7',\n",
       "       ...\n",
       "       'DEST_TTN', 'DEST_VPS', 'DEP_TIME_BINS_LATE_NIGHT',\n",
       "       'DEP_TIME_BINS_MIDDAY', 'DEP_TIME_BINS_MORNING',\n",
       "       'ARR_TIME_BINS_LATE_NIGHT', 'ARR_TIME_BINS_MIDDAY',\n",
       "       'ARR_TIME_BINS_MORNING', 'CRS_ELAPSED_TIME_LG', 'DISTANCE_LG'],\n",
       "      dtype='object', length=124)"
      ]
     },
     "execution_count": 4,
     "metadata": {},
     "output_type": "execute_result"
    }
   ],
   "source": [
    "X_train.columns"
   ]
  },
  {
   "cell_type": "code",
   "execution_count": 5,
   "metadata": {},
   "outputs": [],
   "source": [
    "y_train = pd.DataFrame(y_train).to_numpy().ravel()\n",
    "y_test = pd.DataFrame(y_test).to_numpy().ravel()"
   ]
  },
  {
   "cell_type": "markdown",
   "metadata": {},
   "source": [
    "It's hard to remember now what my columns are, so here's the list of columns before get_dummies:\n",
    "\n",
    "         QUARTER              52645 non-null  category\n",
    "         MONTH                52645 non-null  category\n",
    "         DAY_OF_MONTH         52645 non-null  category\n",
    "         DAY_OF_WEEK          52645 non-null  category\n",
    "         CARRIER              52645 non-null  object  \n",
    "         FL_NUM               52645 non-null  object  \n",
    "         DEST                 52645 non-null  object  \n",
    "         CRS_ELAPSED_TIME_LG  52645 non-null  float64 \n",
    "         DISTANCE_LG          52645 non-null  float64\n",
    "         DEP_TIME_BINS        52645 non-null  object  \n",
    "         ARR_TIME_BINS        52626 non-null  object  "
   ]
  },
  {
   "cell_type": "markdown",
   "metadata": {},
   "source": [
    "And this is what our RESULT column corresponds to:\n",
    "\n",
    "                0 = no delay\n",
    "                1 = delay of 1 hour or less\n",
    "                2 = delay of 2 hours or less\n",
    "                3 = delay of more than 2 hours\n",
    "                4 = cancelled"
   ]
  },
  {
   "cell_type": "code",
   "execution_count": 6,
   "metadata": {},
   "outputs": [
    {
     "data": {
      "image/png": "[encoded data removed]",
      "text/plain": [
       "<Figure size 432x288 with 1 Axes>"
      ]
     },
     "metadata": {
      "needs_background": "light"
     },
     "output_type": "display_data"
    }
   ],
   "source": [
    "fig, ax = plt.subplots()\n",
    "ax.hist(y_train, label=\"Training Set\")\n",
    "ax.hist(y_test, label=\"Test Set\")\n",
    "ax.set_xlabel('Result')\n",
    "ax.set_ylabel('# of Flights')\n",
    "ax.legend()\n",
    "plt.show()"
   ]
  },
  {
   "cell_type": "code",
   "execution_count": 7,
   "metadata": {},
   "outputs": [
    {
     "name": "stdout",
     "output_type": "stream",
     "text": [
      "(array([0, 1, 2, 3, 4], dtype=int64), array([32275,  4096,  1428,   571,  1113], dtype=int64))\n",
      "(array([0, 1, 2, 3, 4], dtype=int64), array([10661,  1446,   470,   198,   387], dtype=int64))\n"
     ]
    }
   ],
   "source": [
    "print(np.unique(y_train, return_counts=True))      # about 32k flights with no delay, about 7k with delay/cancellation\n",
    "print(np.unique(y_test, return_counts=True))      # about 11k flights with no delay, about 2.5k with delay/cancellation"
   ]
  },
  {
   "cell_type": "markdown",
   "metadata": {},
   "source": [
    "As we can see, there are way more Result=0 (no delay) than any other category. We'll need to take this extremely skewed result column into account when evaluating our models. We could have a relatively high accuracy score, but a poor result."
   ]
  },
  {
   "cell_type": "markdown",
   "metadata": {},
   "source": [
    "## Scaling our data\n",
    "\n",
    "We've preprocessed/scaled individual features, but now we'll scale our whole X dataset."
   ]
  },
  {
   "cell_type": "code",
   "execution_count": 6,
   "metadata": {},
   "outputs": [],
   "source": [
    "from sklearn.preprocessing import StandardScaler\n",
    "scaler = StandardScaler()\n",
    "X_train_scaled = scaler.fit_transform(X_train)\n",
    "X_test_scaled = scaler.transform(X_test)"
   ]
  },
  {
   "cell_type": "markdown",
   "metadata": {},
   "source": [
    "## Models\n",
    "\n",
    "Since we're trying to solve a multiclass classification problem, we can use the following models:\n",
    "\n",
    "        0. Dummy Classifier\n",
    "        1. KNN Classifier\n",
    "        2. Extra Trees Classifier\n",
    "        3. Random Forest Classifier\n",
    "        4. Support Vector Machine Classifier\n",
    "        5. Gradient Boosting Classifier\n",
    "        \n",
    "We've already done our preprocessing/scaling and standardizing. We'll perform cross validation with KFold, hyperparameter tuning with RandomizedSearchCV, and put these together with a pipeline."
   ]
  },
  {
   "cell_type": "markdown",
   "metadata": {},
   "source": [
    "## 0. Dummy Classifier\n",
    "\n",
    "The sklearn dummy classifier will give us a baseline with which to compare."
   ]
  },
  {
   "cell_type": "code",
   "execution_count": 7,
   "metadata": {},
   "outputs": [
    {
     "name": "stdout",
     "output_type": "stream",
     "text": [
      "Accuracy Score on Training Set for Dummy Classifier: 0.8174404173948282\n",
      "Accuracy Score on Test Set for Dummy Classifier: 0.809983285215013\n"
     ]
    }
   ],
   "source": [
    "from sklearn.dummy import DummyClassifier\n",
    "dummy_clf = DummyClassifier(strategy=\"most_frequent\")\n",
    "dummy_clf.fit(X_train_scaled, y_train)\n",
    "\n",
    "print(\"Accuracy Score on Training Set for Dummy Classifier: {}\".format(dummy_clf.score(X_train_scaled, y_train)))\n",
    "print(\"Accuracy Score on Test Set for Dummy Classifier: {}\".format(dummy_clf.score(X_test_scaled, y_test)))"
   ]
  },
  {
   "cell_type": "code",
   "execution_count": 8,
   "metadata": {},
   "outputs": [],
   "source": [
    "y_pred_dummy = dummy_clf.predict(X_test_scaled)\n",
    "y_probs_dummy = dummy_clf.predict_proba(X_test_scaled)"
   ]
  },
  {
   "cell_type": "code",
   "execution_count": 9,
   "metadata": {},
   "outputs": [
    {
     "name": "stdout",
     "output_type": "stream",
     "text": [
      "Accuracy Score on Test Set for Dummy Classifier: 0.809983285215013\n",
      "Precision Score - weighted averaged on Test Set for Dummy Classifier: 0.6560729223277049\n",
      "Recall Score - weighted averaged on Test Set for Dummy Classifier: 0.809983285215013\n",
      "F1 Score - weighted averaged on Test Set for Dummy Classifier: 0.7249491502898252\n",
      "ROC-AUC score - weighted averaged on Test Set for Dummy Classifier: 0.5\n"
     ]
    },
    {
     "name": "stderr",
     "output_type": "stream",
     "text": [
      "C:\\ProgramData\\Anaconda3\\lib\\site-packages\\sklearn\\metrics\\_classification.py:1221: UndefinedMetricWarning: Precision is ill-defined and being set to 0.0 in labels with no predicted samples. Use `zero_division` parameter to control this behavior.\n",
      "  _warn_prf(average, modifier, msg_start, len(result))\n"
     ]
    }
   ],
   "source": [
    "from sklearn.metrics import accuracy_score, precision_score, recall_score, f1_score, roc_auc_score\n",
    "print(\"Accuracy Score on Test Set for Dummy Classifier: {}\"\n",
    "      .format(accuracy_score(y_test, y_pred_dummy)))\n",
    "print(\"Precision Score - weighted averaged on Test Set for Dummy Classifier: {}\"\n",
    "      .format(precision_score(y_test, y_pred_dummy, average='weighted')))\n",
    "print(\"Recall Score - weighted averaged on Test Set for Dummy Classifier: {}\"\n",
    "      .format(recall_score(y_test, y_pred_dummy, average='weighted')))\n",
    "print(\"F1 Score - weighted averaged on Test Set for Dummy Classifier: {}\"\n",
    "      .format(f1_score(y_test, y_pred_dummy, average='weighted')))\n",
    "print(\"ROC-AUC score - weighted averaged on Test Set for Dummy Classifier: {}\"\n",
    "      .format(roc_auc_score(y_test, y_probs_dummy, average='weighted', multi_class='ovo')))\n",
    "\n",
    "# note: since my dataset is imbalanced, I'm using average=weighted"
   ]
  },
  {
   "cell_type": "markdown",
   "metadata": {},
   "source": [
    "As we can see, we have a decent accuracy score just for the dummy classifier: 81%! But since we have an imbalanced dataset, this doesn't mean too much. The other netrics will be more important."
   ]
  },
  {
   "cell_type": "markdown",
   "metadata": {},
   "source": [
    "## 1. K Nearest Neighbors"
   ]
  },
  {
   "cell_type": "code",
   "execution_count": 11,
   "metadata": {},
   "outputs": [
    {
     "data": {
      "text/plain": [
       "RandomizedSearchCV(cv=5, estimator=KNeighborsClassifier(),\n",
       "                   param_distributions={'n_neighbors': array([ 1,  3,  5,  7,  9, 11, 13, 15, 17, 19, 21, 23, 25, 27, 29, 31, 33,\n",
       "       35, 37, 39, 41, 43, 45, 47, 49]),\n",
       "                                        'p': [1, 2],\n",
       "                                        'weights': ['uniform', 'distance']})"
      ]
     },
     "execution_count": 11,
     "metadata": {},
     "output_type": "execute_result"
    }
   ],
   "source": [
    "from sklearn.model_selection import RandomizedSearchCV\n",
    "from sklearn.neighbors import KNeighborsClassifier\n",
    "knn = KNeighborsClassifier()\n",
    "params = {\"n_neighbors\": np.arange(1, 50, 2),\n",
    "        \"weights\": ['uniform', 'distance'],\n",
    "         'p': [1, 2],}\n",
    "knn_cv = RandomizedSearchCV(knn, params, cv=5)\n",
    "knn_cv.fit(X_train_scaled, y_train)"
   ]
  },
  {
   "cell_type": "code",
   "execution_count": 12,
   "metadata": {},
   "outputs": [
    {
     "name": "stdout",
     "output_type": "stream",
     "text": [
      "Tuned KNN Classifier Parameters: {'weights': 'uniform', 'p': 1, 'n_neighbors': 27}\n",
      "Tuned KNN Classifier Best Accuracy Score: 0.8175670156250583\n"
     ]
    }
   ],
   "source": [
    "print(\"Tuned KNN Classifier Parameters: {}\".format(knn_cv.best_params_))\n",
    "print(\"Tuned KNN Classifier Best Accuracy Score: {}\".format(knn_cv.best_score_))"
   ]
  },
  {
   "cell_type": "markdown",
   "metadata": {},
   "source": [
    "Let's calculate some metrics for this KNN classifier: accuracy, precision, and ROC-AUC score."
   ]
  },
  {
   "cell_type": "code",
   "execution_count": 13,
   "metadata": {},
   "outputs": [],
   "source": [
    "y_pred_knn = knn_cv.predict(X_test_scaled)\n",
    "y_probs_knn = knn_cv.predict_proba(X_test_scaled)"
   ]
  },
  {
   "cell_type": "code",
   "execution_count": 14,
   "metadata": {},
   "outputs": [
    {
     "name": "stdout",
     "output_type": "stream",
     "text": [
      "Accuracy Score on Test Set for KNN Classifier: 0.8097553563288254\n",
      "Precision Score - weighted averaged on Test Set for KNN Classifier: 0.7054952846412487\n",
      "Recall Score - weighted averaged on Test Set for KNN Classifier: 0.8097553563288254\n",
      "F1 Score - weighted averaged on Test Set for KNN Classifier: 0.7292873332824145\n",
      "ROC-AUC score - weighted averaged on Test Set for KNN Classifier: 0.6342929995837852\n"
     ]
    },
    {
     "name": "stderr",
     "output_type": "stream",
     "text": [
      "C:\\ProgramData\\Anaconda3\\lib\\site-packages\\sklearn\\metrics\\_classification.py:1221: UndefinedMetricWarning: Precision is ill-defined and being set to 0.0 in labels with no predicted samples. Use `zero_division` parameter to control this behavior.\n",
      "  _warn_prf(average, modifier, msg_start, len(result))\n"
     ]
    }
   ],
   "source": [
    "print(\"Accuracy Score on Test Set for KNN Classifier: {}\"\n",
    "      .format(accuracy_score(y_test, y_pred_knn)))\n",
    "print(\"Precision Score - weighted averaged on Test Set for KNN Classifier: {}\"\n",
    "      .format(precision_score(y_test, y_pred_knn, average='weighted')))\n",
    "print(\"Recall Score - weighted averaged on Test Set for KNN Classifier: {}\"\n",
    "      .format(recall_score(y_test, y_pred_knn, average='weighted')))\n",
    "print(\"F1 Score - weighted averaged on Test Set for KNN Classifier: {}\"\n",
    "      .format(f1_score(y_test, y_pred_knn, average='weighted')))\n",
    "print(\"ROC-AUC score - weighted averaged on Test Set for KNN Classifier: {}\"\n",
    "      .format(roc_auc_score(y_test, y_probs_knn, average='weighted', multi_class='ovo')))"
   ]
  },
  {
   "cell_type": "markdown",
   "metadata": {},
   "source": [
    "## 2. Extra Trees Classifier"
   ]
  },
  {
   "cell_type": "code",
   "execution_count": 15,
   "metadata": {},
   "outputs": [
    {
     "data": {
      "text/plain": [
       "RandomizedSearchCV(cv=5, estimator=ExtraTreesClassifier(),\n",
       "                   param_distributions={'criterion': ['gini', 'entropy'],\n",
       "                                        'max_features': ['auto', 'sqrt'],\n",
       "                                        'n_estimators': array([ 25,  50,  75, 100, 125, 150, 175, 200, 225, 250, 275, 300, 325,\n",
       "       350, 375, 400, 425, 450, 475])})"
      ]
     },
     "execution_count": 15,
     "metadata": {},
     "output_type": "execute_result"
    }
   ],
   "source": [
    "from sklearn.ensemble import ExtraTreesClassifier\n",
    "ETC = ExtraTreesClassifier()\n",
    "params = {\"n_estimators\": np.arange(25, 500, 25),\n",
    "        \"criterion\": [\"gini\", \"entropy\"],\n",
    "          \"max_features\": ['auto', 'sqrt']}\n",
    "ETC_cv = RandomizedSearchCV(ETC, params, cv=5)\n",
    "ETC_cv.fit(X_train_scaled, y_train) "
   ]
  },
  {
   "cell_type": "code",
   "execution_count": 16,
   "metadata": {},
   "outputs": [
    {
     "name": "stdout",
     "output_type": "stream",
     "text": [
      "Tuned Extra Trees Classifier Parameters: {'n_estimators': 325, 'max_features': 'sqrt', 'criterion': 'gini'}\n",
      "Tuned Extra Trees Classifier Best Accuracy Score: 0.8012563028115662\n"
     ]
    }
   ],
   "source": [
    "print(\"Tuned Extra Trees Classifier Parameters: {}\".format(ETC_cv.best_params_))\n",
    "print(\"Tuned Extra Trees Classifier Best Accuracy Score: {}\".format(ETC_cv.best_score_))"
   ]
  },
  {
   "cell_type": "code",
   "execution_count": 17,
   "metadata": {},
   "outputs": [],
   "source": [
    "y_pred_etc = ETC_cv.predict(X_test_scaled)\n",
    "y_probs_etc = ETC_cv.predict_proba(X_test_scaled)"
   ]
  },
  {
   "cell_type": "code",
   "execution_count": 18,
   "metadata": {},
   "outputs": [
    {
     "name": "stdout",
     "output_type": "stream",
     "text": [
      "Accuracy Score on Test Set for Extra Trees Classifier: 0.7935724054095122\n",
      "Precision Score - weighted averaged on Test Set for Extra Trees Classifier: 0.7138153223322858\n",
      "Recall Score - weighted averaged on Test Set for Extra Trees Classifier: 0.7935724054095122\n",
      "F1 Score - weighted averaged on Test Set for Extra Trees Classifier: 0.7416845566255036\n",
      "ROC-AUC score - weighted averaged on Test Set for Extra Trees Classifier: 0.6896261138845269\n"
     ]
    }
   ],
   "source": [
    "print(\"Accuracy Score on Test Set for Extra Trees Classifier: {}\"\n",
    "      .format(accuracy_score(y_test, y_pred_etc)))\n",
    "print(\"Precision Score - weighted averaged on Test Set for Extra Trees Classifier: {}\"\n",
    "      .format(precision_score(y_test, y_pred_etc, average='weighted')))\n",
    "print(\"Recall Score - weighted averaged on Test Set for Extra Trees Classifier: {}\"\n",
    "      .format(recall_score(y_test, y_pred_etc, average='weighted')))\n",
    "print(\"F1 Score - weighted averaged on Test Set for Extra Trees Classifier: {}\"\n",
    "      .format(f1_score(y_test, y_pred_etc, average='weighted')))\n",
    "print(\"ROC-AUC score - weighted averaged on Test Set for Extra Trees Classifier: {}\"\n",
    "      .format(roc_auc_score(y_test, y_probs_etc, average='weighted', multi_class='ovo')))"
   ]
  },
  {
   "cell_type": "markdown",
   "metadata": {},
   "source": [
    "## 3. Random Forest"
   ]
  },
  {
   "cell_type": "code",
   "execution_count": 19,
   "metadata": {},
   "outputs": [
    {
     "data": {
      "text/plain": [
       "RandomizedSearchCV(cv=5, estimator=RandomForestClassifier(),\n",
       "                   param_distributions={'criterion': ['gini', 'entropy'],\n",
       "                                        'max_features': ['auto', 'sqrt'],\n",
       "                                        'n_estimators': array([ 25,  50,  75, 100, 125, 150, 175, 200, 225, 250, 275, 300, 325,\n",
       "       350, 375, 400, 425, 450, 475])})"
      ]
     },
     "execution_count": 19,
     "metadata": {},
     "output_type": "execute_result"
    }
   ],
   "source": [
    "from sklearn.ensemble import RandomForestClassifier\n",
    "RF = RandomForestClassifier()\n",
    "params = {\"n_estimators\": np.arange(25, 500, 25),\n",
    "        \"criterion\": [\"gini\", \"entropy\"],\n",
    "          \"max_features\": ['auto', 'sqrt']}\n",
    "RF_cv = RandomizedSearchCV(RF, params, cv=5)\n",
    "RF_cv.fit(X_train_scaled, y_train)"
   ]
  },
  {
   "cell_type": "code",
   "execution_count": 20,
   "metadata": {},
   "outputs": [
    {
     "name": "stdout",
     "output_type": "stream",
     "text": [
      "Tuned Random Forest Classifier Parameters: {'n_estimators': 450, 'max_features': 'auto', 'criterion': 'entropy'}\n",
      "Tuned Random Forest Classifier Best Accuracy Score: 0.8117418135136283\n"
     ]
    }
   ],
   "source": [
    "print(\"Tuned Random Forest Classifier Parameters: {}\".format(RF_cv.best_params_))\n",
    "print(\"Tuned Random Forest Classifier Best Accuracy Score: {}\".format(RF_cv.best_score_))"
   ]
  },
  {
   "cell_type": "code",
   "execution_count": 21,
   "metadata": {},
   "outputs": [],
   "source": [
    "y_pred_rf = RF_cv.predict(X_test_scaled)\n",
    "y_probs_rf = RF_cv.predict_proba(X_test_scaled)"
   ]
  },
  {
   "cell_type": "code",
   "execution_count": 22,
   "metadata": {},
   "outputs": [
    {
     "name": "stdout",
     "output_type": "stream",
     "text": [
      "Accuracy Score on Test Set for Random Forest Classifier: 0.8036012764017626\n",
      "Precision Score - weighted averaged on Test Set for Random Forest Classifier: 0.7139055523460799\n",
      "Recall Score - weighted averaged on Test Set for Random Forest Classifier: 0.8036012764017626\n",
      "F1 Score - weighted averaged on Test Set for Random Forest Classifier: 0.738135686608513\n",
      "ROC-AUC score - weighted averaged on Test Set for Random Forest Classifier: 0.6975835318369625\n"
     ]
    }
   ],
   "source": [
    "print(\"Accuracy Score on Test Set for Random Forest Classifier: {}\"\n",
    "      .format(accuracy_score(y_test, y_pred_rf)))\n",
    "print(\"Precision Score - weighted averaged on Test Set for Random Forest Classifier: {}\"\n",
    "      .format(precision_score(y_test, y_pred_rf, average='weighted')))\n",
    "print(\"Recall Score - weighted averaged on Test Set for Random Forest Classifier: {}\"\n",
    "      .format(recall_score(y_test, y_pred_rf, average='weighted')))\n",
    "print(\"F1 Score - weighted averaged on Test Set for Random Forest Classifier: {}\"\n",
    "      .format(f1_score(y_test, y_pred_rf, average='weighted')))\n",
    "print(\"ROC-AUC score - weighted averaged on Test Set for Random Forest Classifier: {}\"\n",
    "      .format(roc_auc_score(y_test, y_probs_rf, average='weighted', multi_class='ovo')))"
   ]
  },
  {
   "cell_type": "markdown",
   "metadata": {},
   "source": [
    "## 4. Support Vector Machine Classifier"
   ]
  },
  {
   "cell_type": "code",
   "execution_count": null,
   "metadata": {},
   "outputs": [],
   "source": [
    "from sklearn.svm import SVC\n",
    "SVC = SVC()\n",
    "SVC.fit(X_train_scaled, y_train)\n",
    "y_pred_svc = SVC.predict(X_test_scaled)\n",
    "y_probs_svc = SVC.predict_proba(X_test_scaled)"
   ]
  },
  {
   "cell_type": "code",
   "execution_count": null,
   "metadata": {},
   "outputs": [],
   "source": [
    "from sklearn.svm import SVC\n",
    "SVC = SVC()\n",
    "params = {'C': [0.1, 1, 10, 100, 1000], \n",
    "        'gamma': [1, 0.1, 0.01, 0.001, 0.0001],\n",
    "        'kernel': ['linear', 'rbf', 'poly']}\n",
    "SVC_cv = RandomizedSearchCV(SVC, params, cv=5)\n",
    "SVC_cv.fit(X_train_scaled, y_train)"
   ]
  },
  {
   "cell_type": "code",
   "execution_count": null,
   "metadata": {},
   "outputs": [],
   "source": [
    "print(\"Tuned Support Vector Classifier Parameters: {}\".format(SVC_cv.best_params_))\n",
    "print(\"Tuned Support Vector Classifier Best Accuracy Score: {}\".format(SVC_cv.best_score_))"
   ]
  },
  {
   "cell_type": "code",
   "execution_count": null,
   "metadata": {},
   "outputs": [],
   "source": [
    "y_pred_svc = SVC_cv.predict(X_test_scaled)\n",
    "y_probs_svc = SVC_cv.predict_proba(X_test_scaled)"
   ]
  },
  {
   "cell_type": "code",
   "execution_count": null,
   "metadata": {},
   "outputs": [],
   "source": [
    "print(\"Accuracy Score on Test Set for Support Vector Classifier: {}\"\n",
    "      .format(accuracy_score(y_test, y_pred_svc)))\n",
    "print(\"Precision Score - weighted averaged on Test Set for Support Vector Classifier: {}\"\n",
    "      .format(precision_score(y_test, y_pred_svc, average='weighted')))\n",
    "print(\"Recall Score - weighted averaged on Test Set for Support Vector Classifier: {}\"\n",
    "      .format(recall_score(y_test, y_pred_svc, average='weighted')))\n",
    "print(\"F1 Score - weighted averaged on Test Set for Support Vector Classifier: {}\"\n",
    "      .format(f1_score(y_test, y_pred_svc, average='weighted')))\n",
    "print(\"ROC-AUC score - weighted averaged on Test Set for Support Vector Classifier: {}\"\n",
    "      .format(roc_auc_score(y_test, y_probs_svc, average='weighted', multi_class='ovo')))"
   ]
  },
  {
   "cell_type": "markdown",
   "metadata": {},
   "source": [
    "## 5. Gradient Boosting Classifier"
   ]
  },
  {
   "cell_type": "code",
   "execution_count": null,
   "metadata": {},
   "outputs": [],
   "source": [
    "from sklearn.ensemble import GradientBoostingClassifier\n",
    "GBC = GradientBoostingClassifier()\n",
    "params = {\"n_estimators\":[5,50,250,500],\n",
    "          \"max_depth\":[1,3,5,7,9], \n",
    "          \"learning_rate\":[0.01,0.1,1,10,100]}\n",
    "GBC_cv = RandomizedSearchCV(GBC, params, cv=5)\n",
    "GBC_cv.fit(X_train_scaled, y_train)"
   ]
  },
  {
   "cell_type": "code",
   "execution_count": null,
   "metadata": {},
   "outputs": [],
   "source": [
    "print(\"Tuned Gradient Boosting Classifier Parameters: {}\".format(GBC_cv.best_params_))\n",
    "print(\"Tuned Gradient Boosting Classifier Best Accuracy Score: {}\".format(GBC_cv.best_score_))"
   ]
  },
  {
   "cell_type": "code",
   "execution_count": null,
   "metadata": {},
   "outputs": [],
   "source": [
    "y_pred_gbc = GBC_cv.predict(X_test_scaled)\n",
    "y_probs_gbc = GBC_cv.predict_proba(X_test_scaled)"
   ]
  },
  {
   "cell_type": "code",
   "execution_count": null,
   "metadata": {},
   "outputs": [],
   "source": [
    "print(\"Accuracy Score on Test Set for Gradient Boosting Classifier: {}\"\n",
    "      .format(accuracy_score(y_test, y_pred_gbc)))\n",
    "print(\"Precision Score - weighted averaged on Test Set for Gradient Boosting Classifier: {}\"\n",
    "      .format(precision_score(y_test, y_pred_gbc, average='weighted')))\n",
    "print(\"Recall Score - weighted averaged on Test Set for Gradient Boosting Classifier: {}\"\n",
    "      .format(recall_score(y_test, y_pred_gbc, average='weighted')))\n",
    "print(\"F1 Score - weighted averaged on Test Set for Gradient Boosting Classifier: {}\"\n",
    "      .format(f1_score(y_test, y_pred_gbc, average='weighted')))\n",
    "print(\"ROC-AUC score - weighted averaged on Test Set for Gradient Boosting Classifier: {}\"\n",
    "      .format(roc_auc_score(y_test, y_probs_gbc, average='weighted', multi_class='ovo')))"
   ]
  },
  {
   "cell_type": "markdown",
   "metadata": {},
   "source": [
    "## Conclusion\n",
    "\n",
    "In both cases, the Random Forest Classifier outperforms the KNN Classifier. \n",
    "\n",
    "For the RF Classifier we can use the hyperparameters found through RandomizedSearchCV: {'n_estimators': 200, 'max_features': 'auto', 'criterion': 'gini'}.\n",
    "\n",
    "Surprisingly the accuracy on the test set is quite good, even a tiny bit higher than the train set at 0.85."
   ]
  },
  {
   "cell_type": "code",
   "execution_count": null,
   "metadata": {},
   "outputs": [],
   "source": []
  }
 ],
 "metadata": {
  "kernelspec": {
   "display_name": "Python 3",
   "language": "python",
   "name": "python3"
  },
  "language_info": {
   "codemirror_mode": {
    "name": "ipython",
    "version": 3
   },
   "file_extension": ".py",
   "mimetype": "text/x-python",
   "name": "python",
   "nbconvert_exporter": "python",
   "pygments_lexer": "ipython3",
   "version": "3.8.5"
  }
 },
 "nbformat": 4,
 "nbformat_minor": 4
}
